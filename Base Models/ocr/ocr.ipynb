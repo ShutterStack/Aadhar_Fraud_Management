{
 "cells": [
  {
   "cell_type": "code",
   "execution_count": 1,
   "id": "de349b78-5327-4666-8e0f-f0d9880c4f88",
   "metadata": {},
   "outputs": [
    {
     "name": "stdout",
     "output_type": "stream",
     "text": [
      "Collecting easyocr\n",
      "  Using cached easyocr-1.7.2-py3-none-any.whl.metadata (10 kB)\n",
      "Requirement already satisfied: torch in c:\\users\\aryap\\appdata\\local\\programs\\python\\python311\\lib\\site-packages (from easyocr) (2.5.1)\n",
      "Requirement already satisfied: torchvision>=0.5 in c:\\users\\aryap\\appdata\\local\\programs\\python\\python311\\lib\\site-packages (from easyocr) (0.20.1)\n",
      "Collecting opencv-python-headless (from easyocr)\n",
      "  Using cached opencv_python_headless-4.10.0.84-cp37-abi3-win_amd64.whl.metadata (20 kB)\n",
      "Requirement already satisfied: scipy in c:\\users\\aryap\\appdata\\local\\programs\\python\\python311\\lib\\site-packages (from easyocr) (1.15.1)\n",
      "Requirement already satisfied: numpy in c:\\users\\aryap\\appdata\\local\\programs\\python\\python311\\lib\\site-packages (from easyocr) (2.2.1)\n",
      "Requirement already satisfied: Pillow in c:\\users\\aryap\\appdata\\local\\programs\\python\\python311\\lib\\site-packages (from easyocr) (11.1.0)\n",
      "Collecting scikit-image (from easyocr)\n",
      "  Using cached scikit_image-0.25.0-cp311-cp311-win_amd64.whl.metadata (14 kB)\n",
      "Requirement already satisfied: python-bidi in c:\\users\\aryap\\appdata\\local\\programs\\python\\python311\\lib\\site-packages (from easyocr) (0.6.3)\n",
      "Requirement already satisfied: PyYAML in c:\\users\\aryap\\appdata\\local\\programs\\python\\python311\\lib\\site-packages (from easyocr) (6.0.2)\n",
      "Requirement already satisfied: Shapely in c:\\users\\aryap\\appdata\\local\\programs\\python\\python311\\lib\\site-packages (from easyocr) (2.0.6)\n",
      "Requirement already satisfied: pyclipper in c:\\users\\aryap\\appdata\\local\\programs\\python\\python311\\lib\\site-packages (from easyocr) (1.3.0.post6)\n",
      "Collecting ninja (from easyocr)\n",
      "  Using cached ninja-1.11.1.3-py3-none-win_amd64.whl.metadata (5.3 kB)\n",
      "Requirement already satisfied: filelock in c:\\users\\aryap\\appdata\\local\\programs\\python\\python311\\lib\\site-packages (from torch->easyocr) (3.16.1)\n",
      "Requirement already satisfied: typing-extensions>=4.8.0 in c:\\users\\aryap\\appdata\\local\\programs\\python\\python311\\lib\\site-packages (from torch->easyocr) (4.12.2)\n",
      "Requirement already satisfied: networkx in c:\\users\\aryap\\appdata\\local\\programs\\python\\python311\\lib\\site-packages (from torch->easyocr) (3.4.2)\n",
      "Requirement already satisfied: jinja2 in c:\\users\\aryap\\appdata\\local\\programs\\python\\python311\\lib\\site-packages (from torch->easyocr) (3.1.5)\n",
      "Requirement already satisfied: fsspec in c:\\users\\aryap\\appdata\\local\\programs\\python\\python311\\lib\\site-packages (from torch->easyocr) (2024.12.0)\n",
      "Requirement already satisfied: sympy==1.13.1 in c:\\users\\aryap\\appdata\\local\\programs\\python\\python311\\lib\\site-packages (from torch->easyocr) (1.13.1)\n",
      "Requirement already satisfied: mpmath<1.4,>=1.1.0 in c:\\users\\aryap\\appdata\\local\\programs\\python\\python311\\lib\\site-packages (from sympy==1.13.1->torch->easyocr) (1.3.0)\n",
      "Collecting imageio!=2.35.0,>=2.33 (from scikit-image->easyocr)\n",
      "  Using cached imageio-2.36.1-py3-none-any.whl.metadata (5.2 kB)\n",
      "Requirement already satisfied: tifffile>=2022.8.12 in c:\\users\\aryap\\appdata\\local\\programs\\python\\python311\\lib\\site-packages (from scikit-image->easyocr) (2025.1.10)\n",
      "Requirement already satisfied: packaging>=21 in c:\\users\\aryap\\appdata\\local\\programs\\python\\python311\\lib\\site-packages (from scikit-image->easyocr) (24.2)\n",
      "Collecting lazy-loader>=0.4 (from scikit-image->easyocr)\n",
      "  Using cached lazy_loader-0.4-py3-none-any.whl.metadata (7.6 kB)\n",
      "Requirement already satisfied: MarkupSafe>=2.0 in c:\\users\\aryap\\appdata\\local\\programs\\python\\python311\\lib\\site-packages (from jinja2->torch->easyocr) (3.0.2)\n",
      "Using cached easyocr-1.7.2-py3-none-any.whl (2.9 MB)\n",
      "Using cached ninja-1.11.1.3-py3-none-win_amd64.whl (296 kB)\n",
      "Using cached opencv_python_headless-4.10.0.84-cp37-abi3-win_amd64.whl (38.8 MB)\n",
      "Using cached scikit_image-0.25.0-cp311-cp311-win_amd64.whl (12.8 MB)\n",
      "Using cached imageio-2.36.1-py3-none-any.whl (315 kB)\n",
      "Using cached lazy_loader-0.4-py3-none-any.whl (12 kB)\n",
      "Installing collected packages: opencv-python-headless, ninja, lazy-loader, imageio, scikit-image, easyocr\n",
      "Successfully installed easyocr-1.7.2 imageio-2.36.1 lazy-loader-0.4 ninja-1.11.1.3 opencv-python-headless-4.10.0.84 scikit-image-0.25.0\n",
      "Note: you may need to restart the kernel to use updated packages.\n"
     ]
    }
   ],
   "source": [
    "pip install easyocr"
   ]
  },
  {
   "cell_type": "code",
   "execution_count": 13,
   "id": "8910f7ee-1e7f-474c-b813-64f64f6fc640",
   "metadata": {},
   "outputs": [],
   "source": [
    "from ultralytics import YOLO\n",
    "import easyocr\n",
    "import cv2"
   ]
  },
  {
   "cell_type": "code",
   "execution_count": 14,
   "id": "a6b4cd54-78b8-4769-b762-ecc4b1fecb04",
   "metadata": {},
   "outputs": [],
   "source": [
    "model = YOLO(\"C:/Users/aryap/Desktop/Infosys_training/detection_model/runs/detect/train2/weights/best.pt\")"
   ]
  },
  {
   "cell_type": "code",
   "execution_count": 15,
   "id": "aae89727-12b0-4e9e-8437-4a0431a7abe9",
   "metadata": {},
   "outputs": [
    {
     "name": "stderr",
     "output_type": "stream",
     "text": [
      "Neither CUDA nor MPS are available - defaulting to CPU. Note: This module is much faster with a GPU.\n"
     ]
    }
   ],
   "source": [
    "reader = easyocr.Reader(['en'])"
   ]
  },
  {
   "cell_type": "code",
   "execution_count": 26,
   "id": "74ec41fd-7279-4e4c-ad4f-4976d6f3abe4",
   "metadata": {},
   "outputs": [
    {
     "name": "stdout",
     "output_type": "stream",
     "text": [
      "\n",
      "image 1/1 C:\\Users\\aryap\\Desktop\\Infosys_training\\detection_model\\dataset\\images\\train\\9.jpg: 448x640 1 uid, 1 address, 120.0ms\n",
      "Speed: 5.0ms preprocess, 120.0ms inference, 2.0ms postprocess per image at shape (1, 3, 448, 640)\n"
     ]
    }
   ],
   "source": [
    "image_path=\"C:/Users/aryap/Desktop/Infosys_training/detection_model/dataset/images/train/9.jpg\"\n",
    "results =model(image_path)"
   ]
  },
  {
   "cell_type": "code",
   "execution_count": 27,
   "id": "8c618aa4-3af0-4c02-9564-2cc9a157b222",
   "metadata": {},
   "outputs": [],
   "source": [
    "image = cv2.imread(image_path)\n",
    "extracted_data= {}"
   ]
  },
  {
   "cell_type": "code",
   "execution_count": 28,
   "id": "0b63f0df-175f-4511-8ecf-1d0823ea3bd0",
   "metadata": {},
   "outputs": [],
   "source": [
    "for result in results[0].boxes.data.tolist():\n",
    "    x1,y1,x2,y2,confidence,class_id= map(int,result[:6])\n",
    "    field_class = model.names[class_id]\n",
    "\n",
    "    cropped_roi = image[y1:y2,x1:x2]\n",
    "\n",
    "    gray_roi = cv2.cvtColor(cropped_roi,cv2.COLOR_BGR2GRAY)\n",
    "\n",
    "    text = reader.readtext(gray_roi,detail=0)\n",
    "    extracted_data[field_class]= ''.join(text)"
   ]
  },
  {
   "cell_type": "code",
   "execution_count": 29,
   "id": "bd21d647-32fe-4fd2-b86d-ddd59aad366c",
   "metadata": {},
   "outputs": [
    {
     "name": "stdout",
     "output_type": "stream",
     "text": [
      "Extracted Data: {'address': 'Address:Mohd Ashfaque Siddiqui,89/316_GurbatullaPark , Deputy Ka Parao_Nagar;Kanpur Nagar;Uttar Pradesh208001Kanpur', 'uid': '8979 6219 8918'}\n"
     ]
    }
   ],
   "source": [
    "print(\"Extracted Data:\",extracted_data)"
   ]
  },
  {
   "cell_type": "code",
   "execution_count": null,
   "id": "50b38c6e-b7f3-4ec4-9526-672a8a9b97eb",
   "metadata": {},
   "outputs": [],
   "source": []
  }
 ],
 "metadata": {
  "kernelspec": {
   "display_name": "Python 3 (ipykernel)",
   "language": "python",
   "name": "python3"
  },
  "language_info": {
   "codemirror_mode": {
    "name": "ipython",
    "version": 3
   },
   "file_extension": ".py",
   "mimetype": "text/x-python",
   "name": "python",
   "nbconvert_exporter": "python",
   "pygments_lexer": "ipython3",
   "version": "3.11.9"
  }
 },
 "nbformat": 4,
 "nbformat_minor": 5
}
